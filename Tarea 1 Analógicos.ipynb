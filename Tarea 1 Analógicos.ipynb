{
 "cells": [
  {
   "cell_type": "markdown",
   "metadata": {},
   "source": [
    "# Tarea 1\n",
    "Felipe González Poblete"
   ]
  },
  {
   "cell_type": "markdown",
   "metadata": {},
   "source": [
    "### Parte a)\n",
    "Usando el modelo de átomo de Hidrogeno:\n",
    "\n",
    "Encuentre los valores de los primeros tres niveles de energía (n = 1,2,3) tanto en [J] como en [eV]"
   ]
  },
  {
   "cell_type": "code",
   "execution_count": 1,
   "metadata": {},
   "outputs": [
    {
     "name": "stdout",
     "output_type": "stream",
     "text": [
      "energía en el nivel 1 (en [eV]): -13.60 [eV]\n",
      "energía en el nivel 1 (en [J]): -2.1789602222399996e-18 [J]\n",
      "\n",
      "energía en el nivel 2 (en [eV]): -3.40 [eV]\n",
      "energía en el nivel 2 (en [J]): -5.447400555599999e-19 [J]\n",
      "\n",
      "energía en el nivel 3 (en [eV]): -1.51 [eV]\n",
      "energía en el nivel 3 (en [J]): -2.4210669136e-19 [J]\n",
      "\n"
     ]
    }
   ],
   "source": [
    "import numpy as np\n",
    "from scipy.special import genlaguerre, sph_harm, factorial\n",
    "from scipy.constants import hbar, m_e, pi, e, epsilon_0\n",
    "import matplotlib.pyplot as plt\n",
    "# Definición de energía de ionización:\n",
    "\n",
    "E_0 = 13.6 # esto se encuentra en [eV]\n",
    "Ej_0 = E_0 * e # energía de ionización de un electron de hidrógeno en [J]\n",
    "\n",
    "def E(n,E0):\n",
    "    \"\"\" Calcula la energía de un electron de un átomo de hidrógeno en la capa n\n",
    "    \"\"\"\n",
    "    return -E0/(n**2)\n",
    "\n",
    "for n in range(1,4):\n",
    "    print(f'energía en el nivel {n} (en [eV]): {E(n,E_0):.2f} [eV]')\n",
    "    print(f'energía en el nivel {n} (en [J]): {E(n,Ej_0)} [J]\\n')\n",
    "    \n",
    "\n"
   ]
  },
  {
   "cell_type": "markdown",
   "metadata": {},
   "source": [
    "Se debe programar la siguiente función:\n",
    "\n",
    "$$\n",
    "\\psi_{nlm}(r,\\theta,\\phi) = \\sqrt{\\left(\\frac{2}{nr_0}\\right)^3 \\frac{(n-l-1)!}{2n(n+l)!}} \\: e^{-r/nr_0} \\left(\\frac{2r}{nr_0}\\right)^l \\mathcal{L}^{2l+1}_{n-l-1}\\left(\\frac{2r}{nr_0}\\right) \\mathcal{Y}^m_l(\\theta, \\phi)\n",
    "$$"
   ]
  },
  {
   "cell_type": "code",
   "execution_count": 2,
   "metadata": {},
   "outputs": [],
   "source": [
    "r_0 = (4 * pi * epsilon_0 * hbar ** 2) /(m_e * e**2) # cálculo de radio mínimo\n",
    "\n",
    "def psi(r: float,\n",
    "        theta: float,\n",
    "        phi: float,\n",
    "        n: int,\n",
    "        l: int,\n",
    "        m: int):\n",
    "\n",
    "    b = 2 / (n * r_0)\n",
    "    c = factorial(n-l-1)/(2 * n * factorial(n+l))\n",
    "    raiz = np.sqrt(c * b ** 3 )\n",
    "    exponencial = np.exp(-r / (n * r_0))\n",
    "    lag = genlaguerre(n-l-1, 2*l+1)(b)\n",
    "    armonica = sph_harm(m,l,theta,phi)\n",
    "    \n",
    "    return raiz * exponencial * (b**l) * lag * armonica\n"
   ]
  }
 ],
 "metadata": {
  "kernelspec": {
   "display_name": "Python 3",
   "language": "python",
   "name": "python3"
  },
  "language_info": {
   "codemirror_mode": {
    "name": "ipython",
    "version": 3
   },
   "file_extension": ".py",
   "mimetype": "text/x-python",
   "name": "python",
   "nbconvert_exporter": "python",
   "pygments_lexer": "ipython3",
   "version": "3.12.2"
  }
 },
 "nbformat": 4,
 "nbformat_minor": 2
}
